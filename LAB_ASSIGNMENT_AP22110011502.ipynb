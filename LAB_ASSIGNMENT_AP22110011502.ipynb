{
  "nbformat": 4,
  "nbformat_minor": 0,
  "metadata": {
    "colab": {
      "provenance": [],
      "authorship_tag": "ABX9TyPGutYcXmz0Kr4k2KHY4x6G",
      "include_colab_link": true
    },
    "kernelspec": {
      "name": "python3",
      "display_name": "Python 3"
    },
    "language_info": {
      "name": "python"
    }
  },
  "cells": [
    {
      "cell_type": "markdown",
      "metadata": {
        "id": "view-in-github",
        "colab_type": "text"
      },
      "source": [
        "<a href=\"https://colab.research.google.com/github/rayasrujanareddy/Digital-Signature/blob/main/LAB_ASSIGNMENT_AP22110011502.ipynb\" target=\"_parent\"><img src=\"https://colab.research.google.com/assets/colab-badge.svg\" alt=\"Open In Colab\"/></a>"
      ]
    },
    {
      "cell_type": "code",
      "source": [
        "pip install py_ecc"
      ],
      "metadata": {
        "colab": {
          "base_uri": "https://localhost:8080/"
        },
        "id": "8sVPuszmXFFB",
        "outputId": "5dce42d6-c7d2-4cde-a27a-550ad9d75f35"
      },
      "execution_count": 2,
      "outputs": [
        {
          "output_type": "stream",
          "name": "stdout",
          "text": [
            "Collecting py_ecc\n",
            "  Downloading py_ecc-7.0.1-py3-none-any.whl.metadata (6.3 kB)\n",
            "Collecting eth-typing>=3.0.0 (from py_ecc)\n",
            "  Downloading eth_typing-5.2.0-py3-none-any.whl.metadata (3.2 kB)\n",
            "Collecting eth-utils>=2.0.0 (from py_ecc)\n",
            "  Downloading eth_utils-5.2.0-py3-none-any.whl.metadata (5.4 kB)\n",
            "Collecting cached-property>=1.5.1 (from py_ecc)\n",
            "  Downloading cached_property-2.0.1-py3-none-any.whl.metadata (10 kB)\n",
            "Requirement already satisfied: typing_extensions>=4.5.0 in /usr/local/lib/python3.11/dist-packages (from eth-typing>=3.0.0->py_ecc) (4.13.1)\n",
            "Collecting eth-hash>=0.3.1 (from eth-utils>=2.0.0->py_ecc)\n",
            "  Downloading eth_hash-0.7.1-py3-none-any.whl.metadata (4.2 kB)\n",
            "Collecting cytoolz>=0.10.1 (from eth-utils>=2.0.0->py_ecc)\n",
            "  Downloading cytoolz-1.0.1-cp311-cp311-manylinux_2_17_x86_64.manylinux2014_x86_64.whl.metadata (4.6 kB)\n",
            "Requirement already satisfied: toolz>=0.8.0 in /usr/local/lib/python3.11/dist-packages (from cytoolz>=0.10.1->eth-utils>=2.0.0->py_ecc) (0.12.1)\n",
            "Downloading py_ecc-7.0.1-py3-none-any.whl (43 kB)\n",
            "\u001b[2K   \u001b[90m━━━━━━━━━━━━━━━━━━━━━━━━━━━━━━━━━━━━━━━━\u001b[0m \u001b[32m43.3/43.3 kB\u001b[0m \u001b[31m2.2 MB/s\u001b[0m eta \u001b[36m0:00:00\u001b[0m\n",
            "\u001b[?25hDownloading cached_property-2.0.1-py3-none-any.whl (7.4 kB)\n",
            "Downloading eth_typing-5.2.0-py3-none-any.whl (19 kB)\n",
            "Downloading eth_utils-5.2.0-py3-none-any.whl (100 kB)\n",
            "\u001b[2K   \u001b[90m━━━━━━━━━━━━━━━━━━━━━━━━━━━━━━━━━━━━━━━━\u001b[0m \u001b[32m100.5/100.5 kB\u001b[0m \u001b[31m4.2 MB/s\u001b[0m eta \u001b[36m0:00:00\u001b[0m\n",
            "\u001b[?25hDownloading cytoolz-1.0.1-cp311-cp311-manylinux_2_17_x86_64.manylinux2014_x86_64.whl (2.1 MB)\n",
            "\u001b[2K   \u001b[90m━━━━━━━━━━━━━━━━━━━━━━━━━━━━━━━━━━━━━━━━\u001b[0m \u001b[32m2.1/2.1 MB\u001b[0m \u001b[31m27.6 MB/s\u001b[0m eta \u001b[36m0:00:00\u001b[0m\n",
            "\u001b[?25hDownloading eth_hash-0.7.1-py3-none-any.whl (8.0 kB)\n",
            "Installing collected packages: eth-typing, eth-hash, cytoolz, cached-property, eth-utils, py_ecc\n",
            "Successfully installed cached-property-2.0.1 cytoolz-1.0.1 eth-hash-0.7.1 eth-typing-5.2.0 eth-utils-5.2.0 py_ecc-7.0.1\n"
          ]
        }
      ]
    },
    {
      "cell_type": "code",
      "source": [
        "from py_ecc.bls.ciphersuites import G2ProofOfPossession as bls\n",
        "import random\n",
        "\n",
        "NUM_CLIENTS = 3\n",
        "clients = []\n",
        "\n",
        "for i in range(NUM_CLIENTS):\n",
        "    sk = random.randint(1, 2**32)\n",
        "    pk = bls.SkToPk(sk)\n",
        "    clients.append({'id': i+1, 'sk': sk, 'pk': pk})\n",
        "\n",
        "for client in clients:\n",
        "    message = f\"Hello from Client-{client['id']}\".encode('utf-8')\n",
        "    signature = bls.Sign(client['sk'], message)\n",
        "    client['message'] = message\n",
        "    client['signature'] = signature\n",
        "\n",
        "print(\"Verifying all client signatures:\\n\")\n",
        "for client in clients:\n",
        "    is_valid = bls.Verify(client['pk'], client['message'], client['signature'])\n",
        "    print(f\"Client-{client['id']} Signature Valid? -> {is_valid}\")\n"
      ],
      "metadata": {
        "colab": {
          "base_uri": "https://localhost:8080/"
        },
        "id": "8ojag7H_kAZT",
        "outputId": "129c698e-6b41-4737-9a45-34dfd5e4f750"
      },
      "execution_count": 3,
      "outputs": [
        {
          "output_type": "stream",
          "name": "stdout",
          "text": [
            "Verifying all client signatures:\n",
            "\n",
            "Client-1 Signature Valid? -> True\n",
            "Client-2 Signature Valid? -> True\n",
            "Client-3 Signature Valid? -> True\n"
          ]
        }
      ]
    }
  ]
}